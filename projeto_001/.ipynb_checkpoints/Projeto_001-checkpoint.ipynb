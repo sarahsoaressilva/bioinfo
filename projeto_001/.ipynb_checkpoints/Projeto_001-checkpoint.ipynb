{
 "cells": [
  {
   "cell_type": "markdown",
   "id": "c4475d8b",
   "metadata": {},
   "source": [
    "### Projeto 001 - Análise da Diferença entre Células Eucariontes e Procariontes\n"
   ]
  },
  {
   "cell_type": "markdown",
   "id": "02729217",
   "metadata": {},
   "source": [
    "Objetivo da Pesquisa:\n",
    "- Iniciar estudo em algoritmos focados em bioinformática / biologia computacional;\n",
    "- Entendimento melhor de Citologia e Biologia Molecular.\n",
    "\n",
    "Data de Inicio:\n",
    "- 21/12/2024 (Sábado, Dezembro de 2024)\n",
    "\n",
    "Referências:\n",
    "- Utilizada a bactéria Escherichia coli como referência para estudo da célula Procarionte;\n",
    "- Utilizada o fungo Saccharomyces cerevisiae como referência para estudo da célula Eucarionte.\n",
    "\n"
   ]
  },
  {
   "cell_type": "markdown",
   "id": "1ed48ab7",
   "metadata": {},
   "source": [
    "(Procarionte) Link: hhttps://www.ncbi.nlm.nih.gov/datasets/genome/GCF_000005845.2/\n",
    "\n",
    "(Eucarionte) Link: https://www.ncbi.nlm.nih.gov/nuccore/CAKOBR000000000.1"
   ]
  },
  {
   "cell_type": "code",
   "execution_count": 1,
   "id": "2155ef57",
   "metadata": {},
   "outputs": [],
   "source": [
    "# Import biopython\n",
    "from Bio import SeqIO"
   ]
  },
  {
   "cell_type": "code",
   "execution_count": 2,
   "id": "56419d64",
   "metadata": {},
   "outputs": [],
   "source": [
    "# Carregar o arquivo FASTA\n",
    "def carregar_fasta(file_path):\n",
    "    sequencias = list(SeqIO.parse(file_path, \"fasta\"))\n",
    "    tamanho_total = sum(len(seq.seq) for seq in sequencias)\n",
    "    numero_sequencias = len(sequencias)\n",
    "    return sequencias, tamanho_total, numero_sequencias"
   ]
  },
  {
   "cell_type": "code",
   "execution_count": 12,
   "id": "15e27706",
   "metadata": {},
   "outputs": [],
   "source": [
    "# Caminho para os arquivos FASTA\n",
    "fasta_eco = \"E_coli.fasta\"\n",
    "fasta_sac = \"S_cerevisiae.fasta\""
   ]
  },
  {
   "cell_type": "code",
   "execution_count": 4,
   "id": "6cdf1937",
   "metadata": {},
   "outputs": [],
   "source": [
    "# Processar arquivos\n",
    "seqs_eco, tam_eco, num_seq_eco = carregar_fasta(fasta_eco)\n",
    "seqs_sac, tam_sac, num_seq_sac = carregar_fasta(fasta_sac)"
   ]
  },
  {
   "cell_type": "code",
   "execution_count": 13,
   "id": "dc5407b3",
   "metadata": {},
   "outputs": [
    {
     "name": "stdout",
     "output_type": "stream",
     "text": [
      "E. coli - Número de sequências: 1, Tamanho total: 372772 bp\n",
      "S. cerevisiae - Número de sequências: 1, Tamanho total: 1488428 bp\n"
     ]
    }
   ],
   "source": [
    "# Exibir resultados\n",
    "# bp significa base pairs (pares de bases nitrogenadas), \n",
    "# que é uma unidade de medida usada para descrever o comprimento de sequências de DNA ou RNA.\n",
    "\n",
    "print(f\"E. coli - Número de sequências: {num_seq_eco}, Tamanho total: {tam_eco} bp\")\n",
    "print(f\"S. cerevisiae - Número de sequências: {num_seq_sac}, Tamanho total: {tam_sac} bp\")"
   ]
  },
  {
   "cell_type": "code",
   "execution_count": 14,
   "id": "af992723",
   "metadata": {},
   "outputs": [
    {
     "data": {
      "image/png": "[encoded data removed]",
      "text/plain": [
       "<Figure size 432x288 with 1 Axes>"
      ]
     },
     "metadata": {
      "needs_background": "light"
     },
     "output_type": "display_data"
    }
   ],
   "source": [
    "import matplotlib.pyplot as plt\n",
    "\n",
    "# Pega nome para o gráfico\n",
    "organismos = [\"E. coli\", \"S. cerevisiae\"]\n",
    "tamanhos = [tam_eco, tam_sac]\n",
    "\n",
    "# Plot\n",
    "plt.bar(organismos, tamanhos, color=['blue', 'green'])\n",
    "plt.title(\"Comparação do Tamanho dos Genomas\")\n",
    "plt.ylabel(\"Tamanho (bp)\")\n",
    "plt.show()"
   ]
  },
  {
   "cell_type": "code",
   "execution_count": 9,
   "id": "cf573dac",
   "metadata": {},
   "outputs": [],
   "source": [
    "# Calculo de GC\n",
    "# O conteúdo GC é a proporção de bases guanina (G) e citosina (C) em uma sequência de DNA ou RNA em relação ao total \n",
    "# de bases na sequência. \n",
    "# É uma métrica importante em genética, genômica e bioinformática, \n",
    "# porque influencia a estrutura, estabilidade e função das moléculas de DNA e RNA.\n",
    "\n",
    "def calcular_gc_content(sequencias):\n",
    "    total_gc = sum(seq.seq.count(\"G\") + seq.seq.count(\"C\") for seq in sequencias)\n",
    "    total_bases = sum(len(seq.seq) for seq in sequencias)\n",
    "    return (total_gc / total_bases) * 100"
   ]
  },
  {
   "cell_type": "code",
   "execution_count": 15,
   "id": "3ce129bf",
   "metadata": {},
   "outputs": [
    {
     "name": "stdout",
     "output_type": "stream",
     "text": [
      "GC Content - E. coli: 50.55%\n",
      "GC Content - S. cerevisiae: 37.93%\n"
     ]
    }
   ],
   "source": [
    "# Cálculo de conteúdo GC da E.Coli e S. cerevisiae.\n",
    "gc_eco = calcular_gc_content(seqs_eco)\n",
    "gc_sac = calcular_gc_content(seqs_sac)\n",
    "\n",
    "print(f\"GC Content - E. coli: {gc_eco:.2f}%\")\n",
    "print(f\"GC Content - S. cerevisiae: {gc_sac:.2f}%\")"
   ]
  },
  {
   "cell_type": "code",
   "execution_count": null,
   "id": "4e64f79f",
   "metadata": {},
   "outputs": [],
   "source": [
    "# BLAST\n",
    "# Link ID: VPX4RHS6016 \n",
    "# https://blast.ncbi.nlm.nih.gov/Blast.cgi"
   ]
  }
 ],
 "metadata": {
  "kernelspec": {
   "display_name": "Python 3 (ipykernel)",
   "language": "python",
   "name": "python3"
  },
  "language_info": {
   "codemirror_mode": {
    "name": "ipython",
    "version": 3
   },
   "file_extension": ".py",
   "mimetype": "text/x-python",
   "name": "python",
   "nbconvert_exporter": "python",
   "pygments_lexer": "ipython3",
   "version": "3.9.12"
  }
 },
 "nbformat": 4,
 "nbformat_minor": 5
}
